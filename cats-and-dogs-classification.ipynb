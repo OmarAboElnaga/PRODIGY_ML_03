{
 "cells": [
  {
   "cell_type": "code",
   "execution_count": 1,
   "id": "24a2154f",
   "metadata": {
    "_cell_guid": "b1076dfc-b9ad-4769-8c92-a6c4dae69d19",
    "_uuid": "8f2839f25d086af736a60e9eeb907d3b93b6e0e5",
    "execution": {
     "iopub.execute_input": "2024-04-18T12:11:17.978960Z",
     "iopub.status.busy": "2024-04-18T12:11:17.978322Z",
     "iopub.status.idle": "2024-04-18T12:11:21.382890Z",
     "shell.execute_reply": "2024-04-18T12:11:21.381516Z"
    },
    "papermill": {
     "duration": 3.415627,
     "end_time": "2024-04-18T12:11:21.385721",
     "exception": false,
     "start_time": "2024-04-18T12:11:17.970094",
     "status": "completed"
    },
    "tags": []
   },
   "outputs": [],
   "source": [
    "import pandas as pd \n",
    "import os \n",
    "from skimage.transform import resize \n",
    "from skimage.io import imread \n",
    "import numpy as np \n",
    "import matplotlib.pyplot as plt \n",
    "from sklearn import svm \n",
    "from sklearn.model_selection import train_test_split \n",
    "from sklearn.svm import SVC\n",
    "from sklearn.metrics import accuracy_score \n",
    "from sklearn.metrics import classification_report\n",
    "import cv2\n",
    "import random\n",
    "from sklearn.metrics import confusion_matrix\n",
    "import seaborn as sns"
   ]
  },
  {
   "cell_type": "code",
   "execution_count": 2,
   "id": "63151911",
   "metadata": {
    "execution": {
     "iopub.execute_input": "2024-04-18T12:11:21.399260Z",
     "iopub.status.busy": "2024-04-18T12:11:21.398658Z",
     "iopub.status.idle": "2024-04-18T12:11:32.833415Z",
     "shell.execute_reply": "2024-04-18T12:11:32.832173Z"
    },
    "papermill": {
     "duration": 11.444372,
     "end_time": "2024-04-18T12:11:32.836071",
     "exception": false,
     "start_time": "2024-04-18T12:11:21.391699",
     "status": "completed"
    },
    "tags": []
   },
   "outputs": [
    {
     "name": "stdout",
     "output_type": "stream",
     "text": [
      "Extracting all the files now...\n",
      "Done!\n"
     ]
    }
   ],
   "source": [
    "from zipfile import ZipFile \n",
    "  \n",
    "# specifying the zip file name \n",
    "file_name = \"/kaggle/input/dogs-vs-cats/train.zip\"\n",
    "  \n",
    "with ZipFile(file_name, 'r') as zip: \n",
    "    print('Extracting all the files now...') \n",
    "    zip.extractall() \n",
    "    print('Done!')"
   ]
  },
  {
   "cell_type": "code",
   "execution_count": 3,
   "id": "68677660",
   "metadata": {
    "execution": {
     "iopub.execute_input": "2024-04-18T12:11:32.850403Z",
     "iopub.status.busy": "2024-04-18T12:11:32.849197Z",
     "iopub.status.idle": "2024-04-18T12:11:32.892670Z",
     "shell.execute_reply": "2024-04-18T12:11:32.891489Z"
    },
    "papermill": {
     "duration": 0.053739,
     "end_time": "2024-04-18T12:11:32.895674",
     "exception": false,
     "start_time": "2024-04-18T12:11:32.841935",
     "status": "completed"
    },
    "tags": []
   },
   "outputs": [],
   "source": [
    "dir =  \"/kaggle/working/train\"\n",
    "data = []\n",
    "cats = []\n",
    "dogs = []\n",
    "img_list = os.listdir(dir)\n",
    "for i in range(len(img_list)):\n",
    "    if(img_list[i][0:3]== \"cat\"):\n",
    "        cats.append(img_list[i])\n",
    "    elif(img_list[i][0:3]== \"dog\"):\n",
    "        dogs.append(img_list[i])"
   ]
  },
  {
   "cell_type": "code",
   "execution_count": 4,
   "id": "38232e0d",
   "metadata": {
    "execution": {
     "iopub.execute_input": "2024-04-18T12:11:32.909526Z",
     "iopub.status.busy": "2024-04-18T12:11:32.909116Z",
     "iopub.status.idle": "2024-04-18T12:11:46.115524Z",
     "shell.execute_reply": "2024-04-18T12:11:46.114371Z"
    },
    "papermill": {
     "duration": 13.216972,
     "end_time": "2024-04-18T12:11:46.118500",
     "exception": false,
     "start_time": "2024-04-18T12:11:32.901528",
     "status": "completed"
    },
    "tags": []
   },
   "outputs": [],
   "source": [
    "for img in cats:\n",
    "    imgpath = os.path.join(dir, img)\n",
    "    pet_img = cv2.imread(imgpath, 0)\n",
    "    resized_img = cv2.resize(pet_img, (50, 50))\n",
    "    if resized_img.shape != (50, 50):\n",
    "        print(f\"Failed to resize image: {imgpath}\")\n",
    "        continue\n",
    "    image_normalized = resized_img / 255.0    \n",
    "    flattened_img = np.array(image_normalized).flatten()\n",
    "    \n",
    "    if len(flattened_img) != 2500:\n",
    "        print(f\"Image size mismatch after flattening: {imgpath}\")\n",
    "        continue\n",
    "    \n",
    "    data.append([flattened_img, 0])"
   ]
  },
  {
   "cell_type": "code",
   "execution_count": 5,
   "id": "5870b58b",
   "metadata": {
    "execution": {
     "iopub.execute_input": "2024-04-18T12:11:46.132270Z",
     "iopub.status.busy": "2024-04-18T12:11:46.131841Z",
     "iopub.status.idle": "2024-04-18T12:11:59.847297Z",
     "shell.execute_reply": "2024-04-18T12:11:59.846070Z"
    },
    "papermill": {
     "duration": 13.725658,
     "end_time": "2024-04-18T12:11:59.850095",
     "exception": false,
     "start_time": "2024-04-18T12:11:46.124437",
     "status": "completed"
    },
    "tags": []
   },
   "outputs": [],
   "source": [
    "for img in dogs:\n",
    "    imgpath = os.path.join(dir,img)\n",
    "    pet_img = cv2.imread(imgpath,0)\n",
    "    resized_img = cv2.resize(pet_img, (50, 50))\n",
    "    if resized_img.shape != (50, 50):\n",
    "        print(f\"Failed to resize image: {imgpath}\")\n",
    "        continue\n",
    "    image_normalized = resized_img / 255.0    \n",
    "    flattened_img = np.array(image_normalized).flatten()\n",
    "    \n",
    "    if len(flattened_img) != 2500:\n",
    "        print(f\"Image size mismatch after flattening: {imgpath}\")\n",
    "        continue\n",
    "    \n",
    "    data.append([flattened_img, 1])"
   ]
  },
  {
   "cell_type": "code",
   "execution_count": 6,
   "id": "b3afdbf7",
   "metadata": {
    "execution": {
     "iopub.execute_input": "2024-04-18T12:11:59.864152Z",
     "iopub.status.busy": "2024-04-18T12:11:59.863231Z",
     "iopub.status.idle": "2024-04-18T12:11:59.912351Z",
     "shell.execute_reply": "2024-04-18T12:11:59.911144Z"
    },
    "papermill": {
     "duration": 0.05907,
     "end_time": "2024-04-18T12:11:59.915254",
     "exception": false,
     "start_time": "2024-04-18T12:11:59.856184",
     "status": "completed"
    },
    "tags": []
   },
   "outputs": [],
   "source": [
    "random.shuffle(data)\n",
    "features = []\n",
    "labels = []\n",
    "for i in range (len(data)):\n",
    "    features.append(data[i][0])\n",
    "    labels.append(data[i][1])"
   ]
  },
  {
   "cell_type": "code",
   "execution_count": 7,
   "id": "90fd8b76",
   "metadata": {
    "execution": {
     "iopub.execute_input": "2024-04-18T12:11:59.929053Z",
     "iopub.status.busy": "2024-04-18T12:11:59.928623Z",
     "iopub.status.idle": "2024-04-18T12:11:59.956271Z",
     "shell.execute_reply": "2024-04-18T12:11:59.955041Z"
    },
    "papermill": {
     "duration": 0.037675,
     "end_time": "2024-04-18T12:11:59.958975",
     "exception": false,
     "start_time": "2024-04-18T12:11:59.921300",
     "status": "completed"
    },
    "tags": []
   },
   "outputs": [],
   "source": [
    "labels = pd.Series(labels)\n",
    "features1 = pd.Series(features)\n",
    "features2 = np.array(features1)"
   ]
  },
  {
   "cell_type": "code",
   "execution_count": 8,
   "id": "ba87c449",
   "metadata": {
    "execution": {
     "iopub.execute_input": "2024-04-18T12:11:59.972886Z",
     "iopub.status.busy": "2024-04-18T12:11:59.972493Z",
     "iopub.status.idle": "2024-04-18T12:11:59.977830Z",
     "shell.execute_reply": "2024-04-18T12:11:59.976617Z"
    },
    "papermill": {
     "duration": 0.01506,
     "end_time": "2024-04-18T12:11:59.980337",
     "exception": false,
     "start_time": "2024-04-18T12:11:59.965277",
     "status": "completed"
    },
    "tags": []
   },
   "outputs": [],
   "source": [
    "features2 = np.asarray(features2)\n",
    "labels = np.asarray(labels)"
   ]
  },
  {
   "cell_type": "code",
   "execution_count": 9,
   "id": "742b1e84",
   "metadata": {
    "execution": {
     "iopub.execute_input": "2024-04-18T12:11:59.993733Z",
     "iopub.status.busy": "2024-04-18T12:11:59.993337Z",
     "iopub.status.idle": "2024-04-18T12:12:18.791773Z",
     "shell.execute_reply": "2024-04-18T12:12:18.790729Z"
    },
    "papermill": {
     "duration": 18.808324,
     "end_time": "2024-04-18T12:12:18.794527",
     "exception": false,
     "start_time": "2024-04-18T12:11:59.986203",
     "status": "completed"
    },
    "tags": []
   },
   "outputs": [],
   "source": [
    "features3 = []\n",
    "vector = np.vectorize(np.float_)\n",
    "for i in range(25000):\n",
    "    features3.append(vector(features2[i]))"
   ]
  },
  {
   "cell_type": "code",
   "execution_count": 10,
   "id": "6cec2f21",
   "metadata": {
    "execution": {
     "iopub.execute_input": "2024-04-18T12:12:18.808388Z",
     "iopub.status.busy": "2024-04-18T12:12:18.808003Z",
     "iopub.status.idle": "2024-04-18T12:12:18.822863Z",
     "shell.execute_reply": "2024-04-18T12:12:18.821685Z"
    },
    "papermill": {
     "duration": 0.024908,
     "end_time": "2024-04-18T12:12:18.825515",
     "exception": false,
     "start_time": "2024-04-18T12:12:18.800607",
     "status": "completed"
    },
    "tags": []
   },
   "outputs": [],
   "source": [
    "x_train,x_test , y_train , y_test = train_test_split(features3 , labels , train_size = 0.6 , random_state=5)"
   ]
  },
  {
   "cell_type": "code",
   "execution_count": 11,
   "id": "6fe1ff97",
   "metadata": {
    "execution": {
     "iopub.execute_input": "2024-04-18T12:12:18.839724Z",
     "iopub.status.busy": "2024-04-18T12:12:18.839327Z",
     "iopub.status.idle": "2024-04-18T12:12:18.844786Z",
     "shell.execute_reply": "2024-04-18T12:12:18.843463Z"
    },
    "papermill": {
     "duration": 0.015657,
     "end_time": "2024-04-18T12:12:18.847222",
     "exception": false,
     "start_time": "2024-04-18T12:12:18.831565",
     "status": "completed"
    },
    "tags": []
   },
   "outputs": [],
   "source": [
    "model = SVC(C=2 , gamma = \"auto\" , kernel = \"rbf\")"
   ]
  },
  {
   "cell_type": "code",
   "execution_count": 12,
   "id": "82279eff",
   "metadata": {
    "execution": {
     "iopub.execute_input": "2024-04-18T12:12:18.861365Z",
     "iopub.status.busy": "2024-04-18T12:12:18.860967Z",
     "iopub.status.idle": "2024-04-18T12:19:34.103962Z",
     "shell.execute_reply": "2024-04-18T12:19:34.102781Z"
    },
    "papermill": {
     "duration": 435.258577,
     "end_time": "2024-04-18T12:19:34.112042",
     "exception": false,
     "start_time": "2024-04-18T12:12:18.853465",
     "status": "completed"
    },
    "tags": []
   },
   "outputs": [
    {
     "data": {
      "text/html": [
       "<style>#sk-container-id-1 {color: black;background-color: white;}#sk-container-id-1 pre{padding: 0;}#sk-container-id-1 div.sk-toggleable {background-color: white;}#sk-container-id-1 label.sk-toggleable__label {cursor: pointer;display: block;width: 100%;margin-bottom: 0;padding: 0.3em;box-sizing: border-box;text-align: center;}#sk-container-id-1 label.sk-toggleable__label-arrow:before {content: \"▸\";float: left;margin-right: 0.25em;color: #696969;}#sk-container-id-1 label.sk-toggleable__label-arrow:hover:before {color: black;}#sk-container-id-1 div.sk-estimator:hover label.sk-toggleable__label-arrow:before {color: black;}#sk-container-id-1 div.sk-toggleable__content {max-height: 0;max-width: 0;overflow: hidden;text-align: left;background-color: #f0f8ff;}#sk-container-id-1 div.sk-toggleable__content pre {margin: 0.2em;color: black;border-radius: 0.25em;background-color: #f0f8ff;}#sk-container-id-1 input.sk-toggleable__control:checked~div.sk-toggleable__content {max-height: 200px;max-width: 100%;overflow: auto;}#sk-container-id-1 input.sk-toggleable__control:checked~label.sk-toggleable__label-arrow:before {content: \"▾\";}#sk-container-id-1 div.sk-estimator input.sk-toggleable__control:checked~label.sk-toggleable__label {background-color: #d4ebff;}#sk-container-id-1 div.sk-label input.sk-toggleable__control:checked~label.sk-toggleable__label {background-color: #d4ebff;}#sk-container-id-1 input.sk-hidden--visually {border: 0;clip: rect(1px 1px 1px 1px);clip: rect(1px, 1px, 1px, 1px);height: 1px;margin: -1px;overflow: hidden;padding: 0;position: absolute;width: 1px;}#sk-container-id-1 div.sk-estimator {font-family: monospace;background-color: #f0f8ff;border: 1px dotted black;border-radius: 0.25em;box-sizing: border-box;margin-bottom: 0.5em;}#sk-container-id-1 div.sk-estimator:hover {background-color: #d4ebff;}#sk-container-id-1 div.sk-parallel-item::after {content: \"\";width: 100%;border-bottom: 1px solid gray;flex-grow: 1;}#sk-container-id-1 div.sk-label:hover label.sk-toggleable__label {background-color: #d4ebff;}#sk-container-id-1 div.sk-serial::before {content: \"\";position: absolute;border-left: 1px solid gray;box-sizing: border-box;top: 0;bottom: 0;left: 50%;z-index: 0;}#sk-container-id-1 div.sk-serial {display: flex;flex-direction: column;align-items: center;background-color: white;padding-right: 0.2em;padding-left: 0.2em;position: relative;}#sk-container-id-1 div.sk-item {position: relative;z-index: 1;}#sk-container-id-1 div.sk-parallel {display: flex;align-items: stretch;justify-content: center;background-color: white;position: relative;}#sk-container-id-1 div.sk-item::before, #sk-container-id-1 div.sk-parallel-item::before {content: \"\";position: absolute;border-left: 1px solid gray;box-sizing: border-box;top: 0;bottom: 0;left: 50%;z-index: -1;}#sk-container-id-1 div.sk-parallel-item {display: flex;flex-direction: column;z-index: 1;position: relative;background-color: white;}#sk-container-id-1 div.sk-parallel-item:first-child::after {align-self: flex-end;width: 50%;}#sk-container-id-1 div.sk-parallel-item:last-child::after {align-self: flex-start;width: 50%;}#sk-container-id-1 div.sk-parallel-item:only-child::after {width: 0;}#sk-container-id-1 div.sk-dashed-wrapped {border: 1px dashed gray;margin: 0 0.4em 0.5em 0.4em;box-sizing: border-box;padding-bottom: 0.4em;background-color: white;}#sk-container-id-1 div.sk-label label {font-family: monospace;font-weight: bold;display: inline-block;line-height: 1.2em;}#sk-container-id-1 div.sk-label-container {text-align: center;}#sk-container-id-1 div.sk-container {/* jupyter's `normalize.less` sets `[hidden] { display: none; }` but bootstrap.min.css set `[hidden] { display: none !important; }` so we also need the `!important` here to be able to override the default hidden behavior on the sphinx rendered scikit-learn.org. See: https://github.com/scikit-learn/scikit-learn/issues/21755 */display: inline-block !important;position: relative;}#sk-container-id-1 div.sk-text-repr-fallback {display: none;}</style><div id=\"sk-container-id-1\" class=\"sk-top-container\"><div class=\"sk-text-repr-fallback\"><pre>SVC(C=2, gamma=&#x27;auto&#x27;)</pre><b>In a Jupyter environment, please rerun this cell to show the HTML representation or trust the notebook. <br />On GitHub, the HTML representation is unable to render, please try loading this page with nbviewer.org.</b></div><div class=\"sk-container\" hidden><div class=\"sk-item\"><div class=\"sk-estimator sk-toggleable\"><input class=\"sk-toggleable__control sk-hidden--visually\" id=\"sk-estimator-id-1\" type=\"checkbox\" checked><label for=\"sk-estimator-id-1\" class=\"sk-toggleable__label sk-toggleable__label-arrow\">SVC</label><div class=\"sk-toggleable__content\"><pre>SVC(C=2, gamma=&#x27;auto&#x27;)</pre></div></div></div></div></div>"
      ],
      "text/plain": [
       "SVC(C=2, gamma='auto')"
      ]
     },
     "execution_count": 12,
     "metadata": {},
     "output_type": "execute_result"
    }
   ],
   "source": [
    " model.fit(x_train , y_train)"
   ]
  },
  {
   "cell_type": "code",
   "execution_count": 13,
   "id": "7a3bd699",
   "metadata": {
    "execution": {
     "iopub.execute_input": "2024-04-18T12:19:34.126048Z",
     "iopub.status.busy": "2024-04-18T12:19:34.125630Z",
     "iopub.status.idle": "2024-04-18T12:25:51.460308Z",
     "shell.execute_reply": "2024-04-18T12:25:51.459075Z"
    },
    "papermill": {
     "duration": 377.345861,
     "end_time": "2024-04-18T12:25:51.463810",
     "exception": false,
     "start_time": "2024-04-18T12:19:34.117949",
     "status": "completed"
    },
    "tags": []
   },
   "outputs": [],
   "source": [
    "y_pred = model.predict(x_test)"
   ]
  },
  {
   "cell_type": "code",
   "execution_count": 14,
   "id": "1f8d4c1e",
   "metadata": {
    "execution": {
     "iopub.execute_input": "2024-04-18T12:25:51.478528Z",
     "iopub.status.busy": "2024-04-18T12:25:51.478104Z",
     "iopub.status.idle": "2024-04-18T12:25:51.821153Z",
     "shell.execute_reply": "2024-04-18T12:25:51.819981Z"
    },
    "papermill": {
     "duration": 0.353513,
     "end_time": "2024-04-18T12:25:51.823891",
     "exception": false,
     "start_time": "2024-04-18T12:25:51.470378",
     "status": "completed"
    },
    "tags": []
   },
   "outputs": [
    {
     "data": {
      "image/png": "[encoded data removed]",
      "text/plain": [
       "<Figure size 640x480 with 2 Axes>"
      ]
     },
     "metadata": {},
     "output_type": "display_data"
    }
   ],
   "source": [
    "cm = confusion_matrix(y_test, y_pred)\n",
    "sns.heatmap(cm, annot=True, fmt=\"d\", cmap=\"Reds\")\n",
    "plt.xlabel('Predicted labels')\n",
    "plt.ylabel('True labels')\n",
    "plt.show()"
   ]
  },
  {
   "cell_type": "code",
   "execution_count": null,
   "id": "50054129",
   "metadata": {
    "papermill": {
     "duration": 0.006359,
     "end_time": "2024-04-18T12:25:51.836889",
     "exception": false,
     "start_time": "2024-04-18T12:25:51.830530",
     "status": "completed"
    },
    "tags": []
   },
   "outputs": [],
   "source": []
  }
 ],
 "metadata": {
  "kaggle": {
   "accelerator": "none",
   "dataSources": [
    {
     "databundleVersionId": 31148,
     "sourceId": 3362,
     "sourceType": "competition"
    }
   ],
   "dockerImageVersionId": 30673,
   "isGpuEnabled": false,
   "isInternetEnabled": true,
   "language": "python",
   "sourceType": "notebook"
  },
  "kernelspec": {
   "display_name": "Python 3",
   "language": "python",
   "name": "python3"
  },
  "language_info": {
   "codemirror_mode": {
    "name": "ipython",
    "version": 3
   },
   "file_extension": ".py",
   "mimetype": "text/x-python",
   "name": "python",
   "nbconvert_exporter": "python",
   "pygments_lexer": "ipython3",
   "version": "3.10.13"
  },
  "papermill": {
   "default_parameters": {},
   "duration": 877.754994,
   "end_time": "2024-04-18T12:25:52.669170",
   "environment_variables": {},
   "exception": null,
   "input_path": "__notebook__.ipynb",
   "output_path": "__notebook__.ipynb",
   "parameters": {},
   "start_time": "2024-04-18T12:11:14.914176",
   "version": "2.5.0"
  }
 },
 "nbformat": 4,
 "nbformat_minor": 5
}
